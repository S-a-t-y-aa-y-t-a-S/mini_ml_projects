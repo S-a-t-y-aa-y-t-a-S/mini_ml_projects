{
 "cells": [
  {
   "cell_type": "code",
   "execution_count": 1,
   "id": "118fc7e2",
   "metadata": {
    "_cell_guid": "b1076dfc-b9ad-4769-8c92-a6c4dae69d19",
    "_uuid": "8f2839f25d086af736a60e9eeb907d3b93b6e0e5",
    "execution": {
     "iopub.execute_input": "2024-07-20T17:04:36.391675Z",
     "iopub.status.busy": "2024-07-20T17:04:36.390981Z",
     "iopub.status.idle": "2024-07-20T17:04:37.282146Z",
     "shell.execute_reply": "2024-07-20T17:04:37.280964Z"
    },
    "papermill": {
     "duration": 0.909261,
     "end_time": "2024-07-20T17:04:37.284998",
     "exception": false,
     "start_time": "2024-07-20T17:04:36.375737",
     "status": "completed"
    },
    "tags": []
   },
   "outputs": [
    {
     "name": "stdout",
     "output_type": "stream",
     "text": [
      "/kaggle/input/parkinsonsdataset/parkinsons.names\n",
      "/kaggle/input/parkinsonsdataset/parkinsons.csv\n"
     ]
    }
   ],
   "source": [
    "# This Python 3 environment comes with many helpful analytics libraries installed\n",
    "# It is defined by the kaggle/python Docker image: https://github.com/kaggle/docker-python\n",
    "# For example, here's several helpful packages to load\n",
    "\n",
    "import numpy as np # linear algebra\n",
    "import pandas as pd # data processing, CSV file I/O (e.g. pd.read_csv)\n",
    "\n",
    "# Input data files are available in the read-only \"../input/\" directory\n",
    "# For example, running this (by clicking run or pressing Shift+Enter) will list all files under the input directory\n",
    "\n",
    "import os\n",
    "for dirname, _, filenames in os.walk('/kaggle/input'):\n",
    "    for filename in filenames:\n",
    "        print(os.path.join(dirname, filename))\n",
    "\n",
    "# You can write up to 20GB to the current directory (/kaggle/working/) that gets preserved as output when you create a version using \"Save & Run All\" \n",
    "# You can also write temporary files to /kaggle/temp/, but they won't be saved outside of the current session"
   ]
  },
  {
   "cell_type": "markdown",
   "id": "b526f058",
   "metadata": {
    "papermill": {
     "duration": 0.010081,
     "end_time": "2024-07-20T17:04:37.305772",
     "exception": false,
     "start_time": "2024-07-20T17:04:37.295691",
     "status": "completed"
    },
    "tags": []
   },
   "source": [
    "importing the dependencies"
   ]
  },
  {
   "cell_type": "code",
   "execution_count": 2,
   "id": "b249bb58",
   "metadata": {
    "execution": {
     "iopub.execute_input": "2024-07-20T17:04:37.329000Z",
     "iopub.status.busy": "2024-07-20T17:04:37.327924Z",
     "iopub.status.idle": "2024-07-20T17:04:38.712213Z",
     "shell.execute_reply": "2024-07-20T17:04:38.710957Z"
    },
    "papermill": {
     "duration": 1.399167,
     "end_time": "2024-07-20T17:04:38.715349",
     "exception": false,
     "start_time": "2024-07-20T17:04:37.316182",
     "status": "completed"
    },
    "tags": []
   },
   "outputs": [],
   "source": [
    "from sklearn.model_selection import train_test_split\n",
    "from sklearn.preprocessing import StandardScaler\n",
    "from sklearn import svm\n",
    "from sklearn.metrics import accuracy_score"
   ]
  },
  {
   "cell_type": "markdown",
   "id": "c0864a03",
   "metadata": {
    "papermill": {
     "duration": 0.01007,
     "end_time": "2024-07-20T17:04:38.736243",
     "exception": false,
     "start_time": "2024-07-20T17:04:38.726173",
     "status": "completed"
    },
    "tags": []
   },
   "source": [
    "data collection"
   ]
  },
  {
   "cell_type": "code",
   "execution_count": 3,
   "id": "5a70540a",
   "metadata": {
    "execution": {
     "iopub.execute_input": "2024-07-20T17:04:38.759225Z",
     "iopub.status.busy": "2024-07-20T17:04:38.758825Z",
     "iopub.status.idle": "2024-07-20T17:04:38.822128Z",
     "shell.execute_reply": "2024-07-20T17:04:38.820842Z"
    },
    "papermill": {
     "duration": 0.077872,
     "end_time": "2024-07-20T17:04:38.824850",
     "exception": false,
     "start_time": "2024-07-20T17:04:38.746978",
     "status": "completed"
    },
    "tags": []
   },
   "outputs": [
    {
     "data": {
      "text/html": [
       "<div>\n",
       "<style scoped>\n",
       "    .dataframe tbody tr th:only-of-type {\n",
       "        vertical-align: middle;\n",
       "    }\n",
       "\n",
       "    .dataframe tbody tr th {\n",
       "        vertical-align: top;\n",
       "    }\n",
       "\n",
       "    .dataframe thead th {\n",
       "        text-align: right;\n",
       "    }\n",
       "</style>\n",
       "<table border=\"1\" class=\"dataframe\">\n",
       "  <thead>\n",
       "    <tr style=\"text-align: right;\">\n",
       "      <th></th>\n",
       "      <th>name</th>\n",
       "      <th>MDVP:Fo(Hz)</th>\n",
       "      <th>MDVP:Fhi(Hz)</th>\n",
       "      <th>MDVP:Flo(Hz)</th>\n",
       "      <th>MDVP:Jitter(%)</th>\n",
       "      <th>MDVP:Jitter(Abs)</th>\n",
       "      <th>MDVP:RAP</th>\n",
       "      <th>MDVP:PPQ</th>\n",
       "      <th>Jitter:DDP</th>\n",
       "      <th>MDVP:Shimmer</th>\n",
       "      <th>...</th>\n",
       "      <th>Shimmer:DDA</th>\n",
       "      <th>NHR</th>\n",
       "      <th>HNR</th>\n",
       "      <th>status</th>\n",
       "      <th>RPDE</th>\n",
       "      <th>DFA</th>\n",
       "      <th>spread1</th>\n",
       "      <th>spread2</th>\n",
       "      <th>D2</th>\n",
       "      <th>PPE</th>\n",
       "    </tr>\n",
       "  </thead>\n",
       "  <tbody>\n",
       "    <tr>\n",
       "      <th>0</th>\n",
       "      <td>phon_R01_S01_1</td>\n",
       "      <td>119.992</td>\n",
       "      <td>157.302</td>\n",
       "      <td>74.997</td>\n",
       "      <td>0.00784</td>\n",
       "      <td>0.00007</td>\n",
       "      <td>0.00370</td>\n",
       "      <td>0.00554</td>\n",
       "      <td>0.01109</td>\n",
       "      <td>0.04374</td>\n",
       "      <td>...</td>\n",
       "      <td>0.06545</td>\n",
       "      <td>0.02211</td>\n",
       "      <td>21.033</td>\n",
       "      <td>1</td>\n",
       "      <td>0.414783</td>\n",
       "      <td>0.815285</td>\n",
       "      <td>-4.813031</td>\n",
       "      <td>0.266482</td>\n",
       "      <td>2.301442</td>\n",
       "      <td>0.284654</td>\n",
       "    </tr>\n",
       "    <tr>\n",
       "      <th>1</th>\n",
       "      <td>phon_R01_S01_2</td>\n",
       "      <td>122.400</td>\n",
       "      <td>148.650</td>\n",
       "      <td>113.819</td>\n",
       "      <td>0.00968</td>\n",
       "      <td>0.00008</td>\n",
       "      <td>0.00465</td>\n",
       "      <td>0.00696</td>\n",
       "      <td>0.01394</td>\n",
       "      <td>0.06134</td>\n",
       "      <td>...</td>\n",
       "      <td>0.09403</td>\n",
       "      <td>0.01929</td>\n",
       "      <td>19.085</td>\n",
       "      <td>1</td>\n",
       "      <td>0.458359</td>\n",
       "      <td>0.819521</td>\n",
       "      <td>-4.075192</td>\n",
       "      <td>0.335590</td>\n",
       "      <td>2.486855</td>\n",
       "      <td>0.368674</td>\n",
       "    </tr>\n",
       "    <tr>\n",
       "      <th>2</th>\n",
       "      <td>phon_R01_S01_3</td>\n",
       "      <td>116.682</td>\n",
       "      <td>131.111</td>\n",
       "      <td>111.555</td>\n",
       "      <td>0.01050</td>\n",
       "      <td>0.00009</td>\n",
       "      <td>0.00544</td>\n",
       "      <td>0.00781</td>\n",
       "      <td>0.01633</td>\n",
       "      <td>0.05233</td>\n",
       "      <td>...</td>\n",
       "      <td>0.08270</td>\n",
       "      <td>0.01309</td>\n",
       "      <td>20.651</td>\n",
       "      <td>1</td>\n",
       "      <td>0.429895</td>\n",
       "      <td>0.825288</td>\n",
       "      <td>-4.443179</td>\n",
       "      <td>0.311173</td>\n",
       "      <td>2.342259</td>\n",
       "      <td>0.332634</td>\n",
       "    </tr>\n",
       "    <tr>\n",
       "      <th>3</th>\n",
       "      <td>phon_R01_S01_4</td>\n",
       "      <td>116.676</td>\n",
       "      <td>137.871</td>\n",
       "      <td>111.366</td>\n",
       "      <td>0.00997</td>\n",
       "      <td>0.00009</td>\n",
       "      <td>0.00502</td>\n",
       "      <td>0.00698</td>\n",
       "      <td>0.01505</td>\n",
       "      <td>0.05492</td>\n",
       "      <td>...</td>\n",
       "      <td>0.08771</td>\n",
       "      <td>0.01353</td>\n",
       "      <td>20.644</td>\n",
       "      <td>1</td>\n",
       "      <td>0.434969</td>\n",
       "      <td>0.819235</td>\n",
       "      <td>-4.117501</td>\n",
       "      <td>0.334147</td>\n",
       "      <td>2.405554</td>\n",
       "      <td>0.368975</td>\n",
       "    </tr>\n",
       "    <tr>\n",
       "      <th>4</th>\n",
       "      <td>phon_R01_S01_5</td>\n",
       "      <td>116.014</td>\n",
       "      <td>141.781</td>\n",
       "      <td>110.655</td>\n",
       "      <td>0.01284</td>\n",
       "      <td>0.00011</td>\n",
       "      <td>0.00655</td>\n",
       "      <td>0.00908</td>\n",
       "      <td>0.01966</td>\n",
       "      <td>0.06425</td>\n",
       "      <td>...</td>\n",
       "      <td>0.10470</td>\n",
       "      <td>0.01767</td>\n",
       "      <td>19.649</td>\n",
       "      <td>1</td>\n",
       "      <td>0.417356</td>\n",
       "      <td>0.823484</td>\n",
       "      <td>-3.747787</td>\n",
       "      <td>0.234513</td>\n",
       "      <td>2.332180</td>\n",
       "      <td>0.410335</td>\n",
       "    </tr>\n",
       "  </tbody>\n",
       "</table>\n",
       "<p>5 rows × 24 columns</p>\n",
       "</div>"
      ],
      "text/plain": [
       "             name  MDVP:Fo(Hz)  MDVP:Fhi(Hz)  MDVP:Flo(Hz)  MDVP:Jitter(%)  \\\n",
       "0  phon_R01_S01_1      119.992       157.302        74.997         0.00784   \n",
       "1  phon_R01_S01_2      122.400       148.650       113.819         0.00968   \n",
       "2  phon_R01_S01_3      116.682       131.111       111.555         0.01050   \n",
       "3  phon_R01_S01_4      116.676       137.871       111.366         0.00997   \n",
       "4  phon_R01_S01_5      116.014       141.781       110.655         0.01284   \n",
       "\n",
       "   MDVP:Jitter(Abs)  MDVP:RAP  MDVP:PPQ  Jitter:DDP  MDVP:Shimmer  ...  \\\n",
       "0           0.00007   0.00370   0.00554     0.01109       0.04374  ...   \n",
       "1           0.00008   0.00465   0.00696     0.01394       0.06134  ...   \n",
       "2           0.00009   0.00544   0.00781     0.01633       0.05233  ...   \n",
       "3           0.00009   0.00502   0.00698     0.01505       0.05492  ...   \n",
       "4           0.00011   0.00655   0.00908     0.01966       0.06425  ...   \n",
       "\n",
       "   Shimmer:DDA      NHR     HNR  status      RPDE       DFA   spread1  \\\n",
       "0      0.06545  0.02211  21.033       1  0.414783  0.815285 -4.813031   \n",
       "1      0.09403  0.01929  19.085       1  0.458359  0.819521 -4.075192   \n",
       "2      0.08270  0.01309  20.651       1  0.429895  0.825288 -4.443179   \n",
       "3      0.08771  0.01353  20.644       1  0.434969  0.819235 -4.117501   \n",
       "4      0.10470  0.01767  19.649       1  0.417356  0.823484 -3.747787   \n",
       "\n",
       "    spread2        D2       PPE  \n",
       "0  0.266482  2.301442  0.284654  \n",
       "1  0.335590  2.486855  0.368674  \n",
       "2  0.311173  2.342259  0.332634  \n",
       "3  0.334147  2.405554  0.368975  \n",
       "4  0.234513  2.332180  0.410335  \n",
       "\n",
       "[5 rows x 24 columns]"
      ]
     },
     "execution_count": 3,
     "metadata": {},
     "output_type": "execute_result"
    }
   ],
   "source": [
    "data = pd.read_csv(\"/kaggle/input/parkinsonsdataset/parkinsons.csv\")\n",
    "data.head()"
   ]
  },
  {
   "cell_type": "code",
   "execution_count": 4,
   "id": "6878cf31",
   "metadata": {
    "execution": {
     "iopub.execute_input": "2024-07-20T17:04:38.848296Z",
     "iopub.status.busy": "2024-07-20T17:04:38.847823Z",
     "iopub.status.idle": "2024-07-20T17:04:38.854943Z",
     "shell.execute_reply": "2024-07-20T17:04:38.853720Z"
    },
    "papermill": {
     "duration": 0.021622,
     "end_time": "2024-07-20T17:04:38.857363",
     "exception": false,
     "start_time": "2024-07-20T17:04:38.835741",
     "status": "completed"
    },
    "tags": []
   },
   "outputs": [
    {
     "data": {
      "text/plain": [
       "(195, 24)"
      ]
     },
     "execution_count": 4,
     "metadata": {},
     "output_type": "execute_result"
    }
   ],
   "source": [
    "# checking the shape of the given dataframe\n",
    "data.shape"
   ]
  },
  {
   "cell_type": "code",
   "execution_count": 5,
   "id": "32d20557",
   "metadata": {
    "execution": {
     "iopub.execute_input": "2024-07-20T17:04:38.880820Z",
     "iopub.status.busy": "2024-07-20T17:04:38.880377Z",
     "iopub.status.idle": "2024-07-20T17:04:38.905046Z",
     "shell.execute_reply": "2024-07-20T17:04:38.903671Z"
    },
    "papermill": {
     "duration": 0.039703,
     "end_time": "2024-07-20T17:04:38.907857",
     "exception": false,
     "start_time": "2024-07-20T17:04:38.868154",
     "status": "completed"
    },
    "tags": []
   },
   "outputs": [
    {
     "name": "stdout",
     "output_type": "stream",
     "text": [
      "<class 'pandas.core.frame.DataFrame'>\n",
      "RangeIndex: 195 entries, 0 to 194\n",
      "Data columns (total 24 columns):\n",
      " #   Column            Non-Null Count  Dtype  \n",
      "---  ------            --------------  -----  \n",
      " 0   name              195 non-null    object \n",
      " 1   MDVP:Fo(Hz)       195 non-null    float64\n",
      " 2   MDVP:Fhi(Hz)      195 non-null    float64\n",
      " 3   MDVP:Flo(Hz)      195 non-null    float64\n",
      " 4   MDVP:Jitter(%)    195 non-null    float64\n",
      " 5   MDVP:Jitter(Abs)  195 non-null    float64\n",
      " 6   MDVP:RAP          195 non-null    float64\n",
      " 7   MDVP:PPQ          195 non-null    float64\n",
      " 8   Jitter:DDP        195 non-null    float64\n",
      " 9   MDVP:Shimmer      195 non-null    float64\n",
      " 10  MDVP:Shimmer(dB)  195 non-null    float64\n",
      " 11  Shimmer:APQ3      195 non-null    float64\n",
      " 12  Shimmer:APQ5      195 non-null    float64\n",
      " 13  MDVP:APQ          195 non-null    float64\n",
      " 14  Shimmer:DDA       195 non-null    float64\n",
      " 15  NHR               195 non-null    float64\n",
      " 16  HNR               195 non-null    float64\n",
      " 17  status            195 non-null    int64  \n",
      " 18  RPDE              195 non-null    float64\n",
      " 19  DFA               195 non-null    float64\n",
      " 20  spread1           195 non-null    float64\n",
      " 21  spread2           195 non-null    float64\n",
      " 22  D2                195 non-null    float64\n",
      " 23  PPE               195 non-null    float64\n",
      "dtypes: float64(22), int64(1), object(1)\n",
      "memory usage: 36.7+ KB\n"
     ]
    }
   ],
   "source": [
    "# checking for other information of the dataframe\n",
    "data.info()"
   ]
  },
  {
   "cell_type": "code",
   "execution_count": 6,
   "id": "9efcc677",
   "metadata": {
    "execution": {
     "iopub.execute_input": "2024-07-20T17:04:38.933658Z",
     "iopub.status.busy": "2024-07-20T17:04:38.933223Z",
     "iopub.status.idle": "2024-07-20T17:04:38.943068Z",
     "shell.execute_reply": "2024-07-20T17:04:38.941863Z"
    },
    "papermill": {
     "duration": 0.025518,
     "end_time": "2024-07-20T17:04:38.945622",
     "exception": false,
     "start_time": "2024-07-20T17:04:38.920104",
     "status": "completed"
    },
    "tags": []
   },
   "outputs": [
    {
     "data": {
      "text/plain": [
       "name                0\n",
       "MDVP:Fo(Hz)         0\n",
       "MDVP:Fhi(Hz)        0\n",
       "MDVP:Flo(Hz)        0\n",
       "MDVP:Jitter(%)      0\n",
       "MDVP:Jitter(Abs)    0\n",
       "MDVP:RAP            0\n",
       "MDVP:PPQ            0\n",
       "Jitter:DDP          0\n",
       "MDVP:Shimmer        0\n",
       "MDVP:Shimmer(dB)    0\n",
       "Shimmer:APQ3        0\n",
       "Shimmer:APQ5        0\n",
       "MDVP:APQ            0\n",
       "Shimmer:DDA         0\n",
       "NHR                 0\n",
       "HNR                 0\n",
       "status              0\n",
       "RPDE                0\n",
       "DFA                 0\n",
       "spread1             0\n",
       "spread2             0\n",
       "D2                  0\n",
       "PPE                 0\n",
       "dtype: int64"
      ]
     },
     "execution_count": 6,
     "metadata": {},
     "output_type": "execute_result"
    }
   ],
   "source": [
    "# checking for null values in any row\n",
    "data.isnull().sum() # no null value is present"
   ]
  },
  {
   "cell_type": "code",
   "execution_count": 7,
   "id": "bced14c8",
   "metadata": {
    "execution": {
     "iopub.execute_input": "2024-07-20T17:04:38.970092Z",
     "iopub.status.busy": "2024-07-20T17:04:38.969702Z",
     "iopub.status.idle": "2024-07-20T17:04:38.980773Z",
     "shell.execute_reply": "2024-07-20T17:04:38.979665Z"
    },
    "papermill": {
     "duration": 0.026193,
     "end_time": "2024-07-20T17:04:38.983253",
     "exception": false,
     "start_time": "2024-07-20T17:04:38.957060",
     "status": "completed"
    },
    "tags": []
   },
   "outputs": [
    {
     "data": {
      "text/plain": [
       "0"
      ]
     },
     "execution_count": 7,
     "metadata": {},
     "output_type": "execute_result"
    }
   ],
   "source": [
    "# checking for duplicate rows in a dataframe\n",
    "data.duplicated().sum() # no duplicated rows present"
   ]
  },
  {
   "cell_type": "code",
   "execution_count": 8,
   "id": "da2b1d7e",
   "metadata": {
    "execution": {
     "iopub.execute_input": "2024-07-20T17:04:39.008509Z",
     "iopub.status.busy": "2024-07-20T17:04:39.008104Z",
     "iopub.status.idle": "2024-07-20T17:04:39.085797Z",
     "shell.execute_reply": "2024-07-20T17:04:39.084666Z"
    },
    "papermill": {
     "duration": 0.093304,
     "end_time": "2024-07-20T17:04:39.088557",
     "exception": false,
     "start_time": "2024-07-20T17:04:38.995253",
     "status": "completed"
    },
    "tags": []
   },
   "outputs": [
    {
     "data": {
      "text/html": [
       "<div>\n",
       "<style scoped>\n",
       "    .dataframe tbody tr th:only-of-type {\n",
       "        vertical-align: middle;\n",
       "    }\n",
       "\n",
       "    .dataframe tbody tr th {\n",
       "        vertical-align: top;\n",
       "    }\n",
       "\n",
       "    .dataframe thead th {\n",
       "        text-align: right;\n",
       "    }\n",
       "</style>\n",
       "<table border=\"1\" class=\"dataframe\">\n",
       "  <thead>\n",
       "    <tr style=\"text-align: right;\">\n",
       "      <th></th>\n",
       "      <th>MDVP:Fo(Hz)</th>\n",
       "      <th>MDVP:Fhi(Hz)</th>\n",
       "      <th>MDVP:Flo(Hz)</th>\n",
       "      <th>MDVP:Jitter(%)</th>\n",
       "      <th>MDVP:Jitter(Abs)</th>\n",
       "      <th>MDVP:RAP</th>\n",
       "      <th>MDVP:PPQ</th>\n",
       "      <th>Jitter:DDP</th>\n",
       "      <th>MDVP:Shimmer</th>\n",
       "      <th>MDVP:Shimmer(dB)</th>\n",
       "      <th>...</th>\n",
       "      <th>Shimmer:DDA</th>\n",
       "      <th>NHR</th>\n",
       "      <th>HNR</th>\n",
       "      <th>status</th>\n",
       "      <th>RPDE</th>\n",
       "      <th>DFA</th>\n",
       "      <th>spread1</th>\n",
       "      <th>spread2</th>\n",
       "      <th>D2</th>\n",
       "      <th>PPE</th>\n",
       "    </tr>\n",
       "  </thead>\n",
       "  <tbody>\n",
       "    <tr>\n",
       "      <th>count</th>\n",
       "      <td>195.000000</td>\n",
       "      <td>195.000000</td>\n",
       "      <td>195.000000</td>\n",
       "      <td>195.000000</td>\n",
       "      <td>195.000000</td>\n",
       "      <td>195.000000</td>\n",
       "      <td>195.000000</td>\n",
       "      <td>195.000000</td>\n",
       "      <td>195.000000</td>\n",
       "      <td>195.000000</td>\n",
       "      <td>...</td>\n",
       "      <td>195.000000</td>\n",
       "      <td>195.000000</td>\n",
       "      <td>195.000000</td>\n",
       "      <td>195.000000</td>\n",
       "      <td>195.000000</td>\n",
       "      <td>195.000000</td>\n",
       "      <td>195.000000</td>\n",
       "      <td>195.000000</td>\n",
       "      <td>195.000000</td>\n",
       "      <td>195.000000</td>\n",
       "    </tr>\n",
       "    <tr>\n",
       "      <th>mean</th>\n",
       "      <td>154.228641</td>\n",
       "      <td>197.104918</td>\n",
       "      <td>116.324631</td>\n",
       "      <td>0.006220</td>\n",
       "      <td>0.000044</td>\n",
       "      <td>0.003306</td>\n",
       "      <td>0.003446</td>\n",
       "      <td>0.009920</td>\n",
       "      <td>0.029709</td>\n",
       "      <td>0.282251</td>\n",
       "      <td>...</td>\n",
       "      <td>0.046993</td>\n",
       "      <td>0.024847</td>\n",
       "      <td>21.885974</td>\n",
       "      <td>0.753846</td>\n",
       "      <td>0.498536</td>\n",
       "      <td>0.718099</td>\n",
       "      <td>-5.684397</td>\n",
       "      <td>0.226510</td>\n",
       "      <td>2.381826</td>\n",
       "      <td>0.206552</td>\n",
       "    </tr>\n",
       "    <tr>\n",
       "      <th>std</th>\n",
       "      <td>41.390065</td>\n",
       "      <td>91.491548</td>\n",
       "      <td>43.521413</td>\n",
       "      <td>0.004848</td>\n",
       "      <td>0.000035</td>\n",
       "      <td>0.002968</td>\n",
       "      <td>0.002759</td>\n",
       "      <td>0.008903</td>\n",
       "      <td>0.018857</td>\n",
       "      <td>0.194877</td>\n",
       "      <td>...</td>\n",
       "      <td>0.030459</td>\n",
       "      <td>0.040418</td>\n",
       "      <td>4.425764</td>\n",
       "      <td>0.431878</td>\n",
       "      <td>0.103942</td>\n",
       "      <td>0.055336</td>\n",
       "      <td>1.090208</td>\n",
       "      <td>0.083406</td>\n",
       "      <td>0.382799</td>\n",
       "      <td>0.090119</td>\n",
       "    </tr>\n",
       "    <tr>\n",
       "      <th>min</th>\n",
       "      <td>88.333000</td>\n",
       "      <td>102.145000</td>\n",
       "      <td>65.476000</td>\n",
       "      <td>0.001680</td>\n",
       "      <td>0.000007</td>\n",
       "      <td>0.000680</td>\n",
       "      <td>0.000920</td>\n",
       "      <td>0.002040</td>\n",
       "      <td>0.009540</td>\n",
       "      <td>0.085000</td>\n",
       "      <td>...</td>\n",
       "      <td>0.013640</td>\n",
       "      <td>0.000650</td>\n",
       "      <td>8.441000</td>\n",
       "      <td>0.000000</td>\n",
       "      <td>0.256570</td>\n",
       "      <td>0.574282</td>\n",
       "      <td>-7.964984</td>\n",
       "      <td>0.006274</td>\n",
       "      <td>1.423287</td>\n",
       "      <td>0.044539</td>\n",
       "    </tr>\n",
       "    <tr>\n",
       "      <th>25%</th>\n",
       "      <td>117.572000</td>\n",
       "      <td>134.862500</td>\n",
       "      <td>84.291000</td>\n",
       "      <td>0.003460</td>\n",
       "      <td>0.000020</td>\n",
       "      <td>0.001660</td>\n",
       "      <td>0.001860</td>\n",
       "      <td>0.004985</td>\n",
       "      <td>0.016505</td>\n",
       "      <td>0.148500</td>\n",
       "      <td>...</td>\n",
       "      <td>0.024735</td>\n",
       "      <td>0.005925</td>\n",
       "      <td>19.198000</td>\n",
       "      <td>1.000000</td>\n",
       "      <td>0.421306</td>\n",
       "      <td>0.674758</td>\n",
       "      <td>-6.450096</td>\n",
       "      <td>0.174351</td>\n",
       "      <td>2.099125</td>\n",
       "      <td>0.137451</td>\n",
       "    </tr>\n",
       "    <tr>\n",
       "      <th>50%</th>\n",
       "      <td>148.790000</td>\n",
       "      <td>175.829000</td>\n",
       "      <td>104.315000</td>\n",
       "      <td>0.004940</td>\n",
       "      <td>0.000030</td>\n",
       "      <td>0.002500</td>\n",
       "      <td>0.002690</td>\n",
       "      <td>0.007490</td>\n",
       "      <td>0.022970</td>\n",
       "      <td>0.221000</td>\n",
       "      <td>...</td>\n",
       "      <td>0.038360</td>\n",
       "      <td>0.011660</td>\n",
       "      <td>22.085000</td>\n",
       "      <td>1.000000</td>\n",
       "      <td>0.495954</td>\n",
       "      <td>0.722254</td>\n",
       "      <td>-5.720868</td>\n",
       "      <td>0.218885</td>\n",
       "      <td>2.361532</td>\n",
       "      <td>0.194052</td>\n",
       "    </tr>\n",
       "    <tr>\n",
       "      <th>75%</th>\n",
       "      <td>182.769000</td>\n",
       "      <td>224.205500</td>\n",
       "      <td>140.018500</td>\n",
       "      <td>0.007365</td>\n",
       "      <td>0.000060</td>\n",
       "      <td>0.003835</td>\n",
       "      <td>0.003955</td>\n",
       "      <td>0.011505</td>\n",
       "      <td>0.037885</td>\n",
       "      <td>0.350000</td>\n",
       "      <td>...</td>\n",
       "      <td>0.060795</td>\n",
       "      <td>0.025640</td>\n",
       "      <td>25.075500</td>\n",
       "      <td>1.000000</td>\n",
       "      <td>0.587562</td>\n",
       "      <td>0.761881</td>\n",
       "      <td>-5.046192</td>\n",
       "      <td>0.279234</td>\n",
       "      <td>2.636456</td>\n",
       "      <td>0.252980</td>\n",
       "    </tr>\n",
       "    <tr>\n",
       "      <th>max</th>\n",
       "      <td>260.105000</td>\n",
       "      <td>592.030000</td>\n",
       "      <td>239.170000</td>\n",
       "      <td>0.033160</td>\n",
       "      <td>0.000260</td>\n",
       "      <td>0.021440</td>\n",
       "      <td>0.019580</td>\n",
       "      <td>0.064330</td>\n",
       "      <td>0.119080</td>\n",
       "      <td>1.302000</td>\n",
       "      <td>...</td>\n",
       "      <td>0.169420</td>\n",
       "      <td>0.314820</td>\n",
       "      <td>33.047000</td>\n",
       "      <td>1.000000</td>\n",
       "      <td>0.685151</td>\n",
       "      <td>0.825288</td>\n",
       "      <td>-2.434031</td>\n",
       "      <td>0.450493</td>\n",
       "      <td>3.671155</td>\n",
       "      <td>0.527367</td>\n",
       "    </tr>\n",
       "  </tbody>\n",
       "</table>\n",
       "<p>8 rows × 23 columns</p>\n",
       "</div>"
      ],
      "text/plain": [
       "       MDVP:Fo(Hz)  MDVP:Fhi(Hz)  MDVP:Flo(Hz)  MDVP:Jitter(%)  \\\n",
       "count   195.000000    195.000000    195.000000      195.000000   \n",
       "mean    154.228641    197.104918    116.324631        0.006220   \n",
       "std      41.390065     91.491548     43.521413        0.004848   \n",
       "min      88.333000    102.145000     65.476000        0.001680   \n",
       "25%     117.572000    134.862500     84.291000        0.003460   \n",
       "50%     148.790000    175.829000    104.315000        0.004940   \n",
       "75%     182.769000    224.205500    140.018500        0.007365   \n",
       "max     260.105000    592.030000    239.170000        0.033160   \n",
       "\n",
       "       MDVP:Jitter(Abs)    MDVP:RAP    MDVP:PPQ  Jitter:DDP  MDVP:Shimmer  \\\n",
       "count        195.000000  195.000000  195.000000  195.000000    195.000000   \n",
       "mean           0.000044    0.003306    0.003446    0.009920      0.029709   \n",
       "std            0.000035    0.002968    0.002759    0.008903      0.018857   \n",
       "min            0.000007    0.000680    0.000920    0.002040      0.009540   \n",
       "25%            0.000020    0.001660    0.001860    0.004985      0.016505   \n",
       "50%            0.000030    0.002500    0.002690    0.007490      0.022970   \n",
       "75%            0.000060    0.003835    0.003955    0.011505      0.037885   \n",
       "max            0.000260    0.021440    0.019580    0.064330      0.119080   \n",
       "\n",
       "       MDVP:Shimmer(dB)  ...  Shimmer:DDA         NHR         HNR      status  \\\n",
       "count        195.000000  ...   195.000000  195.000000  195.000000  195.000000   \n",
       "mean           0.282251  ...     0.046993    0.024847   21.885974    0.753846   \n",
       "std            0.194877  ...     0.030459    0.040418    4.425764    0.431878   \n",
       "min            0.085000  ...     0.013640    0.000650    8.441000    0.000000   \n",
       "25%            0.148500  ...     0.024735    0.005925   19.198000    1.000000   \n",
       "50%            0.221000  ...     0.038360    0.011660   22.085000    1.000000   \n",
       "75%            0.350000  ...     0.060795    0.025640   25.075500    1.000000   \n",
       "max            1.302000  ...     0.169420    0.314820   33.047000    1.000000   \n",
       "\n",
       "             RPDE         DFA     spread1     spread2          D2         PPE  \n",
       "count  195.000000  195.000000  195.000000  195.000000  195.000000  195.000000  \n",
       "mean     0.498536    0.718099   -5.684397    0.226510    2.381826    0.206552  \n",
       "std      0.103942    0.055336    1.090208    0.083406    0.382799    0.090119  \n",
       "min      0.256570    0.574282   -7.964984    0.006274    1.423287    0.044539  \n",
       "25%      0.421306    0.674758   -6.450096    0.174351    2.099125    0.137451  \n",
       "50%      0.495954    0.722254   -5.720868    0.218885    2.361532    0.194052  \n",
       "75%      0.587562    0.761881   -5.046192    0.279234    2.636456    0.252980  \n",
       "max      0.685151    0.825288   -2.434031    0.450493    3.671155    0.527367  \n",
       "\n",
       "[8 rows x 23 columns]"
      ]
     },
     "execution_count": 8,
     "metadata": {},
     "output_type": "execute_result"
    }
   ],
   "source": [
    "# displaying other statistical features\n",
    "data.describe()"
   ]
  },
  {
   "cell_type": "code",
   "execution_count": 9,
   "id": "f6b85304",
   "metadata": {
    "execution": {
     "iopub.execute_input": "2024-07-20T17:04:39.114994Z",
     "iopub.status.busy": "2024-07-20T17:04:39.114612Z",
     "iopub.status.idle": "2024-07-20T17:04:39.124986Z",
     "shell.execute_reply": "2024-07-20T17:04:39.123845Z"
    },
    "papermill": {
     "duration": 0.026616,
     "end_time": "2024-07-20T17:04:39.127641",
     "exception": false,
     "start_time": "2024-07-20T17:04:39.101025",
     "status": "completed"
    },
    "tags": []
   },
   "outputs": [
    {
     "data": {
      "text/plain": [
       "status\n",
       "1    147\n",
       "0     48\n",
       "Name: count, dtype: int64"
      ]
     },
     "execution_count": 9,
     "metadata": {},
     "output_type": "execute_result"
    }
   ],
   "source": [
    "# checking for the distribution of the labelled data\n",
    "data[\"status\"].value_counts()"
   ]
  },
  {
   "cell_type": "markdown",
   "id": "610b7ff5",
   "metadata": {
    "papermill": {
     "duration": 0.011884,
     "end_time": "2024-07-20T17:04:39.151652",
     "exception": false,
     "start_time": "2024-07-20T17:04:39.139768",
     "status": "completed"
    },
    "tags": []
   },
   "source": [
    "- 1-> has Parkison's disease\n",
    "- 0-> does not have Parkinson's disease"
   ]
  },
  {
   "cell_type": "markdown",
   "id": "4727583f",
   "metadata": {
    "papermill": {
     "duration": 0.011703,
     "end_time": "2024-07-20T17:04:39.175681",
     "exception": false,
     "start_time": "2024-07-20T17:04:39.163978",
     "status": "completed"
    },
    "tags": []
   },
   "source": [
    "splitting the data into features and target"
   ]
  },
  {
   "cell_type": "code",
   "execution_count": 10,
   "id": "d519d336",
   "metadata": {
    "execution": {
     "iopub.execute_input": "2024-07-20T17:04:39.201499Z",
     "iopub.status.busy": "2024-07-20T17:04:39.201100Z",
     "iopub.status.idle": "2024-07-20T17:04:39.229583Z",
     "shell.execute_reply": "2024-07-20T17:04:39.228453Z"
    },
    "papermill": {
     "duration": 0.044448,
     "end_time": "2024-07-20T17:04:39.232269",
     "exception": false,
     "start_time": "2024-07-20T17:04:39.187821",
     "status": "completed"
    },
    "tags": []
   },
   "outputs": [
    {
     "data": {
      "text/html": [
       "<div>\n",
       "<style scoped>\n",
       "    .dataframe tbody tr th:only-of-type {\n",
       "        vertical-align: middle;\n",
       "    }\n",
       "\n",
       "    .dataframe tbody tr th {\n",
       "        vertical-align: top;\n",
       "    }\n",
       "\n",
       "    .dataframe thead th {\n",
       "        text-align: right;\n",
       "    }\n",
       "</style>\n",
       "<table border=\"1\" class=\"dataframe\">\n",
       "  <thead>\n",
       "    <tr style=\"text-align: right;\">\n",
       "      <th></th>\n",
       "      <th>MDVP:Fo(Hz)</th>\n",
       "      <th>MDVP:Fhi(Hz)</th>\n",
       "      <th>MDVP:Flo(Hz)</th>\n",
       "      <th>MDVP:Jitter(%)</th>\n",
       "      <th>MDVP:Jitter(Abs)</th>\n",
       "      <th>MDVP:RAP</th>\n",
       "      <th>MDVP:PPQ</th>\n",
       "      <th>Jitter:DDP</th>\n",
       "      <th>MDVP:Shimmer</th>\n",
       "      <th>MDVP:Shimmer(dB)</th>\n",
       "      <th>...</th>\n",
       "      <th>MDVP:APQ</th>\n",
       "      <th>Shimmer:DDA</th>\n",
       "      <th>NHR</th>\n",
       "      <th>HNR</th>\n",
       "      <th>RPDE</th>\n",
       "      <th>DFA</th>\n",
       "      <th>spread1</th>\n",
       "      <th>spread2</th>\n",
       "      <th>D2</th>\n",
       "      <th>PPE</th>\n",
       "    </tr>\n",
       "    <tr>\n",
       "      <th>status</th>\n",
       "      <th></th>\n",
       "      <th></th>\n",
       "      <th></th>\n",
       "      <th></th>\n",
       "      <th></th>\n",
       "      <th></th>\n",
       "      <th></th>\n",
       "      <th></th>\n",
       "      <th></th>\n",
       "      <th></th>\n",
       "      <th></th>\n",
       "      <th></th>\n",
       "      <th></th>\n",
       "      <th></th>\n",
       "      <th></th>\n",
       "      <th></th>\n",
       "      <th></th>\n",
       "      <th></th>\n",
       "      <th></th>\n",
       "      <th></th>\n",
       "      <th></th>\n",
       "    </tr>\n",
       "  </thead>\n",
       "  <tbody>\n",
       "    <tr>\n",
       "      <th>0</th>\n",
       "      <td>181.937771</td>\n",
       "      <td>223.636750</td>\n",
       "      <td>145.207292</td>\n",
       "      <td>0.003866</td>\n",
       "      <td>0.000023</td>\n",
       "      <td>0.001925</td>\n",
       "      <td>0.002056</td>\n",
       "      <td>0.005776</td>\n",
       "      <td>0.017615</td>\n",
       "      <td>0.162958</td>\n",
       "      <td>...</td>\n",
       "      <td>0.013305</td>\n",
       "      <td>0.028511</td>\n",
       "      <td>0.011483</td>\n",
       "      <td>24.678750</td>\n",
       "      <td>0.442552</td>\n",
       "      <td>0.695716</td>\n",
       "      <td>-6.759264</td>\n",
       "      <td>0.160292</td>\n",
       "      <td>2.154491</td>\n",
       "      <td>0.123017</td>\n",
       "    </tr>\n",
       "    <tr>\n",
       "      <th>1</th>\n",
       "      <td>145.180762</td>\n",
       "      <td>188.441463</td>\n",
       "      <td>106.893558</td>\n",
       "      <td>0.006989</td>\n",
       "      <td>0.000051</td>\n",
       "      <td>0.003757</td>\n",
       "      <td>0.003900</td>\n",
       "      <td>0.011273</td>\n",
       "      <td>0.033658</td>\n",
       "      <td>0.321204</td>\n",
       "      <td>...</td>\n",
       "      <td>0.027600</td>\n",
       "      <td>0.053027</td>\n",
       "      <td>0.029211</td>\n",
       "      <td>20.974048</td>\n",
       "      <td>0.516816</td>\n",
       "      <td>0.725408</td>\n",
       "      <td>-5.333420</td>\n",
       "      <td>0.248133</td>\n",
       "      <td>2.456058</td>\n",
       "      <td>0.233828</td>\n",
       "    </tr>\n",
       "  </tbody>\n",
       "</table>\n",
       "<p>2 rows × 22 columns</p>\n",
       "</div>"
      ],
      "text/plain": [
       "        MDVP:Fo(Hz)  MDVP:Fhi(Hz)  MDVP:Flo(Hz)  MDVP:Jitter(%)  \\\n",
       "status                                                            \n",
       "0        181.937771    223.636750    145.207292        0.003866   \n",
       "1        145.180762    188.441463    106.893558        0.006989   \n",
       "\n",
       "        MDVP:Jitter(Abs)  MDVP:RAP  MDVP:PPQ  Jitter:DDP  MDVP:Shimmer  \\\n",
       "status                                                                   \n",
       "0               0.000023  0.001925  0.002056    0.005776      0.017615   \n",
       "1               0.000051  0.003757  0.003900    0.011273      0.033658   \n",
       "\n",
       "        MDVP:Shimmer(dB)  ...  MDVP:APQ  Shimmer:DDA       NHR        HNR  \\\n",
       "status                    ...                                               \n",
       "0               0.162958  ...  0.013305     0.028511  0.011483  24.678750   \n",
       "1               0.321204  ...  0.027600     0.053027  0.029211  20.974048   \n",
       "\n",
       "            RPDE       DFA   spread1   spread2        D2       PPE  \n",
       "status                                                              \n",
       "0       0.442552  0.695716 -6.759264  0.160292  2.154491  0.123017  \n",
       "1       0.516816  0.725408 -5.333420  0.248133  2.456058  0.233828  \n",
       "\n",
       "[2 rows x 22 columns]"
      ]
     },
     "execution_count": 10,
     "metadata": {},
     "output_type": "execute_result"
    }
   ],
   "source": [
    "data.drop(columns=[\"name\"],axis=1).groupby(\"status\").mean()"
   ]
  },
  {
   "cell_type": "markdown",
   "id": "e3fb0efa",
   "metadata": {
    "papermill": {
     "duration": 0.012245,
     "end_time": "2024-07-20T17:04:39.257220",
     "exception": false,
     "start_time": "2024-07-20T17:04:39.244975",
     "status": "completed"
    },
    "tags": []
   },
   "source": [
    "splitting the data into features and labels"
   ]
  },
  {
   "cell_type": "code",
   "execution_count": 11,
   "id": "83c6d3bb",
   "metadata": {
    "execution": {
     "iopub.execute_input": "2024-07-20T17:04:39.284090Z",
     "iopub.status.busy": "2024-07-20T17:04:39.283695Z",
     "iopub.status.idle": "2024-07-20T17:04:39.290169Z",
     "shell.execute_reply": "2024-07-20T17:04:39.289042Z"
    },
    "papermill": {
     "duration": 0.022629,
     "end_time": "2024-07-20T17:04:39.292560",
     "exception": false,
     "start_time": "2024-07-20T17:04:39.269931",
     "status": "completed"
    },
    "tags": []
   },
   "outputs": [],
   "source": [
    "X = data.drop(columns = [\"name\", \"status\"], axis=1)\n",
    "y = data[\"status\"]"
   ]
  },
  {
   "cell_type": "markdown",
   "id": "dd94b536",
   "metadata": {
    "papermill": {
     "duration": 0.012128,
     "end_time": "2024-07-20T17:04:39.317228",
     "exception": false,
     "start_time": "2024-07-20T17:04:39.305100",
     "status": "completed"
    },
    "tags": []
   },
   "source": [
    "splitting the featured data into training data and testing data"
   ]
  },
  {
   "cell_type": "code",
   "execution_count": 12,
   "id": "deddcb1a",
   "metadata": {
    "execution": {
     "iopub.execute_input": "2024-07-20T17:04:39.343805Z",
     "iopub.status.busy": "2024-07-20T17:04:39.343408Z",
     "iopub.status.idle": "2024-07-20T17:04:39.353626Z",
     "shell.execute_reply": "2024-07-20T17:04:39.352604Z"
    },
    "papermill": {
     "duration": 0.026468,
     "end_time": "2024-07-20T17:04:39.356112",
     "exception": false,
     "start_time": "2024-07-20T17:04:39.329644",
     "status": "completed"
    },
    "tags": []
   },
   "outputs": [],
   "source": [
    "X_train, X_test, y_train, y_test = train_test_split(X, y, test_size = 0.2, stratify = y, random_state=42)"
   ]
  },
  {
   "cell_type": "code",
   "execution_count": 13,
   "id": "012cbf6f",
   "metadata": {
    "execution": {
     "iopub.execute_input": "2024-07-20T17:04:39.382699Z",
     "iopub.status.busy": "2024-07-20T17:04:39.382299Z",
     "iopub.status.idle": "2024-07-20T17:04:39.389755Z",
     "shell.execute_reply": "2024-07-20T17:04:39.388632Z"
    },
    "papermill": {
     "duration": 0.02353,
     "end_time": "2024-07-20T17:04:39.392183",
     "exception": false,
     "start_time": "2024-07-20T17:04:39.368653",
     "status": "completed"
    },
    "tags": []
   },
   "outputs": [
    {
     "data": {
      "text/plain": [
       "((195, 22), (156, 22), (39, 22))"
      ]
     },
     "execution_count": 13,
     "metadata": {},
     "output_type": "execute_result"
    }
   ],
   "source": [
    "X.shape, X_train.shape, X_test.shape"
   ]
  },
  {
   "cell_type": "code",
   "execution_count": 14,
   "id": "93e88d7c",
   "metadata": {
    "execution": {
     "iopub.execute_input": "2024-07-20T17:04:39.419066Z",
     "iopub.status.busy": "2024-07-20T17:04:39.418633Z",
     "iopub.status.idle": "2024-07-20T17:04:39.425935Z",
     "shell.execute_reply": "2024-07-20T17:04:39.424631Z"
    },
    "papermill": {
     "duration": 0.023517,
     "end_time": "2024-07-20T17:04:39.428221",
     "exception": false,
     "start_time": "2024-07-20T17:04:39.404704",
     "status": "completed"
    },
    "tags": []
   },
   "outputs": [
    {
     "data": {
      "text/plain": [
       "((195,), (156,), (39,))"
      ]
     },
     "execution_count": 14,
     "metadata": {},
     "output_type": "execute_result"
    }
   ],
   "source": [
    "y.shape, y_train.shape, y_test.shape"
   ]
  },
  {
   "cell_type": "markdown",
   "id": "1c5b12a5",
   "metadata": {
    "papermill": {
     "duration": 0.012478,
     "end_time": "2024-07-20T17:04:39.453505",
     "exception": false,
     "start_time": "2024-07-20T17:04:39.441027",
     "status": "completed"
    },
    "tags": []
   },
   "source": [
    "Standardizing the features"
   ]
  },
  {
   "cell_type": "code",
   "execution_count": 15,
   "id": "96be5cd8",
   "metadata": {
    "execution": {
     "iopub.execute_input": "2024-07-20T17:04:39.480479Z",
     "iopub.status.busy": "2024-07-20T17:04:39.480054Z",
     "iopub.status.idle": "2024-07-20T17:04:39.493029Z",
     "shell.execute_reply": "2024-07-20T17:04:39.492017Z"
    },
    "papermill": {
     "duration": 0.029503,
     "end_time": "2024-07-20T17:04:39.495691",
     "exception": false,
     "start_time": "2024-07-20T17:04:39.466188",
     "status": "completed"
    },
    "tags": []
   },
   "outputs": [
    {
     "data": {
      "text/html": [
       "<style>#sk-container-id-1 {color: black;background-color: white;}#sk-container-id-1 pre{padding: 0;}#sk-container-id-1 div.sk-toggleable {background-color: white;}#sk-container-id-1 label.sk-toggleable__label {cursor: pointer;display: block;width: 100%;margin-bottom: 0;padding: 0.3em;box-sizing: border-box;text-align: center;}#sk-container-id-1 label.sk-toggleable__label-arrow:before {content: \"▸\";float: left;margin-right: 0.25em;color: #696969;}#sk-container-id-1 label.sk-toggleable__label-arrow:hover:before {color: black;}#sk-container-id-1 div.sk-estimator:hover label.sk-toggleable__label-arrow:before {color: black;}#sk-container-id-1 div.sk-toggleable__content {max-height: 0;max-width: 0;overflow: hidden;text-align: left;background-color: #f0f8ff;}#sk-container-id-1 div.sk-toggleable__content pre {margin: 0.2em;color: black;border-radius: 0.25em;background-color: #f0f8ff;}#sk-container-id-1 input.sk-toggleable__control:checked~div.sk-toggleable__content {max-height: 200px;max-width: 100%;overflow: auto;}#sk-container-id-1 input.sk-toggleable__control:checked~label.sk-toggleable__label-arrow:before {content: \"▾\";}#sk-container-id-1 div.sk-estimator input.sk-toggleable__control:checked~label.sk-toggleable__label {background-color: #d4ebff;}#sk-container-id-1 div.sk-label input.sk-toggleable__control:checked~label.sk-toggleable__label {background-color: #d4ebff;}#sk-container-id-1 input.sk-hidden--visually {border: 0;clip: rect(1px 1px 1px 1px);clip: rect(1px, 1px, 1px, 1px);height: 1px;margin: -1px;overflow: hidden;padding: 0;position: absolute;width: 1px;}#sk-container-id-1 div.sk-estimator {font-family: monospace;background-color: #f0f8ff;border: 1px dotted black;border-radius: 0.25em;box-sizing: border-box;margin-bottom: 0.5em;}#sk-container-id-1 div.sk-estimator:hover {background-color: #d4ebff;}#sk-container-id-1 div.sk-parallel-item::after {content: \"\";width: 100%;border-bottom: 1px solid gray;flex-grow: 1;}#sk-container-id-1 div.sk-label:hover label.sk-toggleable__label {background-color: #d4ebff;}#sk-container-id-1 div.sk-serial::before {content: \"\";position: absolute;border-left: 1px solid gray;box-sizing: border-box;top: 0;bottom: 0;left: 50%;z-index: 0;}#sk-container-id-1 div.sk-serial {display: flex;flex-direction: column;align-items: center;background-color: white;padding-right: 0.2em;padding-left: 0.2em;position: relative;}#sk-container-id-1 div.sk-item {position: relative;z-index: 1;}#sk-container-id-1 div.sk-parallel {display: flex;align-items: stretch;justify-content: center;background-color: white;position: relative;}#sk-container-id-1 div.sk-item::before, #sk-container-id-1 div.sk-parallel-item::before {content: \"\";position: absolute;border-left: 1px solid gray;box-sizing: border-box;top: 0;bottom: 0;left: 50%;z-index: -1;}#sk-container-id-1 div.sk-parallel-item {display: flex;flex-direction: column;z-index: 1;position: relative;background-color: white;}#sk-container-id-1 div.sk-parallel-item:first-child::after {align-self: flex-end;width: 50%;}#sk-container-id-1 div.sk-parallel-item:last-child::after {align-self: flex-start;width: 50%;}#sk-container-id-1 div.sk-parallel-item:only-child::after {width: 0;}#sk-container-id-1 div.sk-dashed-wrapped {border: 1px dashed gray;margin: 0 0.4em 0.5em 0.4em;box-sizing: border-box;padding-bottom: 0.4em;background-color: white;}#sk-container-id-1 div.sk-label label {font-family: monospace;font-weight: bold;display: inline-block;line-height: 1.2em;}#sk-container-id-1 div.sk-label-container {text-align: center;}#sk-container-id-1 div.sk-container {/* jupyter's `normalize.less` sets `[hidden] { display: none; }` but bootstrap.min.css set `[hidden] { display: none !important; }` so we also need the `!important` here to be able to override the default hidden behavior on the sphinx rendered scikit-learn.org. See: https://github.com/scikit-learn/scikit-learn/issues/21755 */display: inline-block !important;position: relative;}#sk-container-id-1 div.sk-text-repr-fallback {display: none;}</style><div id=\"sk-container-id-1\" class=\"sk-top-container\"><div class=\"sk-text-repr-fallback\"><pre>StandardScaler()</pre><b>In a Jupyter environment, please rerun this cell to show the HTML representation or trust the notebook. <br />On GitHub, the HTML representation is unable to render, please try loading this page with nbviewer.org.</b></div><div class=\"sk-container\" hidden><div class=\"sk-item\"><div class=\"sk-estimator sk-toggleable\"><input class=\"sk-toggleable__control sk-hidden--visually\" id=\"sk-estimator-id-1\" type=\"checkbox\" checked><label for=\"sk-estimator-id-1\" class=\"sk-toggleable__label sk-toggleable__label-arrow\">StandardScaler</label><div class=\"sk-toggleable__content\"><pre>StandardScaler()</pre></div></div></div></div></div>"
      ],
      "text/plain": [
       "StandardScaler()"
      ]
     },
     "execution_count": 15,
     "metadata": {},
     "output_type": "execute_result"
    }
   ],
   "source": [
    "scaler = StandardScaler()\n",
    "scaler.fit(X_train)"
   ]
  },
  {
   "cell_type": "code",
   "execution_count": 16,
   "id": "48f2ab5d",
   "metadata": {
    "execution": {
     "iopub.execute_input": "2024-07-20T17:04:39.523803Z",
     "iopub.status.busy": "2024-07-20T17:04:39.523430Z",
     "iopub.status.idle": "2024-07-20T17:04:39.533160Z",
     "shell.execute_reply": "2024-07-20T17:04:39.531983Z"
    },
    "papermill": {
     "duration": 0.026638,
     "end_time": "2024-07-20T17:04:39.535800",
     "exception": false,
     "start_time": "2024-07-20T17:04:39.509162",
     "status": "completed"
    },
    "tags": []
   },
   "outputs": [],
   "source": [
    "X_train_scaled = scaler.transform(X_train)\n",
    "X_test_scaled = scaler.transform(X_test)"
   ]
  },
  {
   "cell_type": "markdown",
   "id": "28f18a78",
   "metadata": {
    "papermill": {
     "duration": 0.012723,
     "end_time": "2024-07-20T17:04:39.561538",
     "exception": false,
     "start_time": "2024-07-20T17:04:39.548815",
     "status": "completed"
    },
    "tags": []
   },
   "source": [
    "model training"
   ]
  },
  {
   "cell_type": "code",
   "execution_count": 17,
   "id": "638dd96a",
   "metadata": {
    "execution": {
     "iopub.execute_input": "2024-07-20T17:04:39.590349Z",
     "iopub.status.busy": "2024-07-20T17:04:39.589951Z",
     "iopub.status.idle": "2024-07-20T17:04:39.595527Z",
     "shell.execute_reply": "2024-07-20T17:04:39.594221Z"
    },
    "papermill": {
     "duration": 0.023769,
     "end_time": "2024-07-20T17:04:39.598142",
     "exception": false,
     "start_time": "2024-07-20T17:04:39.574373",
     "status": "completed"
    },
    "tags": []
   },
   "outputs": [],
   "source": [
    "svc = svm.SVC(kernel = \"linear\") "
   ]
  },
  {
   "cell_type": "code",
   "execution_count": 18,
   "id": "7ca8efbb",
   "metadata": {
    "execution": {
     "iopub.execute_input": "2024-07-20T17:04:39.625933Z",
     "iopub.status.busy": "2024-07-20T17:04:39.625534Z",
     "iopub.status.idle": "2024-07-20T17:04:39.638189Z",
     "shell.execute_reply": "2024-07-20T17:04:39.637091Z"
    },
    "papermill": {
     "duration": 0.029253,
     "end_time": "2024-07-20T17:04:39.640656",
     "exception": false,
     "start_time": "2024-07-20T17:04:39.611403",
     "status": "completed"
    },
    "tags": []
   },
   "outputs": [
    {
     "data": {
      "text/html": [
       "<style>#sk-container-id-2 {color: black;background-color: white;}#sk-container-id-2 pre{padding: 0;}#sk-container-id-2 div.sk-toggleable {background-color: white;}#sk-container-id-2 label.sk-toggleable__label {cursor: pointer;display: block;width: 100%;margin-bottom: 0;padding: 0.3em;box-sizing: border-box;text-align: center;}#sk-container-id-2 label.sk-toggleable__label-arrow:before {content: \"▸\";float: left;margin-right: 0.25em;color: #696969;}#sk-container-id-2 label.sk-toggleable__label-arrow:hover:before {color: black;}#sk-container-id-2 div.sk-estimator:hover label.sk-toggleable__label-arrow:before {color: black;}#sk-container-id-2 div.sk-toggleable__content {max-height: 0;max-width: 0;overflow: hidden;text-align: left;background-color: #f0f8ff;}#sk-container-id-2 div.sk-toggleable__content pre {margin: 0.2em;color: black;border-radius: 0.25em;background-color: #f0f8ff;}#sk-container-id-2 input.sk-toggleable__control:checked~div.sk-toggleable__content {max-height: 200px;max-width: 100%;overflow: auto;}#sk-container-id-2 input.sk-toggleable__control:checked~label.sk-toggleable__label-arrow:before {content: \"▾\";}#sk-container-id-2 div.sk-estimator input.sk-toggleable__control:checked~label.sk-toggleable__label {background-color: #d4ebff;}#sk-container-id-2 div.sk-label input.sk-toggleable__control:checked~label.sk-toggleable__label {background-color: #d4ebff;}#sk-container-id-2 input.sk-hidden--visually {border: 0;clip: rect(1px 1px 1px 1px);clip: rect(1px, 1px, 1px, 1px);height: 1px;margin: -1px;overflow: hidden;padding: 0;position: absolute;width: 1px;}#sk-container-id-2 div.sk-estimator {font-family: monospace;background-color: #f0f8ff;border: 1px dotted black;border-radius: 0.25em;box-sizing: border-box;margin-bottom: 0.5em;}#sk-container-id-2 div.sk-estimator:hover {background-color: #d4ebff;}#sk-container-id-2 div.sk-parallel-item::after {content: \"\";width: 100%;border-bottom: 1px solid gray;flex-grow: 1;}#sk-container-id-2 div.sk-label:hover label.sk-toggleable__label {background-color: #d4ebff;}#sk-container-id-2 div.sk-serial::before {content: \"\";position: absolute;border-left: 1px solid gray;box-sizing: border-box;top: 0;bottom: 0;left: 50%;z-index: 0;}#sk-container-id-2 div.sk-serial {display: flex;flex-direction: column;align-items: center;background-color: white;padding-right: 0.2em;padding-left: 0.2em;position: relative;}#sk-container-id-2 div.sk-item {position: relative;z-index: 1;}#sk-container-id-2 div.sk-parallel {display: flex;align-items: stretch;justify-content: center;background-color: white;position: relative;}#sk-container-id-2 div.sk-item::before, #sk-container-id-2 div.sk-parallel-item::before {content: \"\";position: absolute;border-left: 1px solid gray;box-sizing: border-box;top: 0;bottom: 0;left: 50%;z-index: -1;}#sk-container-id-2 div.sk-parallel-item {display: flex;flex-direction: column;z-index: 1;position: relative;background-color: white;}#sk-container-id-2 div.sk-parallel-item:first-child::after {align-self: flex-end;width: 50%;}#sk-container-id-2 div.sk-parallel-item:last-child::after {align-self: flex-start;width: 50%;}#sk-container-id-2 div.sk-parallel-item:only-child::after {width: 0;}#sk-container-id-2 div.sk-dashed-wrapped {border: 1px dashed gray;margin: 0 0.4em 0.5em 0.4em;box-sizing: border-box;padding-bottom: 0.4em;background-color: white;}#sk-container-id-2 div.sk-label label {font-family: monospace;font-weight: bold;display: inline-block;line-height: 1.2em;}#sk-container-id-2 div.sk-label-container {text-align: center;}#sk-container-id-2 div.sk-container {/* jupyter's `normalize.less` sets `[hidden] { display: none; }` but bootstrap.min.css set `[hidden] { display: none !important; }` so we also need the `!important` here to be able to override the default hidden behavior on the sphinx rendered scikit-learn.org. See: https://github.com/scikit-learn/scikit-learn/issues/21755 */display: inline-block !important;position: relative;}#sk-container-id-2 div.sk-text-repr-fallback {display: none;}</style><div id=\"sk-container-id-2\" class=\"sk-top-container\"><div class=\"sk-text-repr-fallback\"><pre>SVC(kernel=&#x27;linear&#x27;)</pre><b>In a Jupyter environment, please rerun this cell to show the HTML representation or trust the notebook. <br />On GitHub, the HTML representation is unable to render, please try loading this page with nbviewer.org.</b></div><div class=\"sk-container\" hidden><div class=\"sk-item\"><div class=\"sk-estimator sk-toggleable\"><input class=\"sk-toggleable__control sk-hidden--visually\" id=\"sk-estimator-id-2\" type=\"checkbox\" checked><label for=\"sk-estimator-id-2\" class=\"sk-toggleable__label sk-toggleable__label-arrow\">SVC</label><div class=\"sk-toggleable__content\"><pre>SVC(kernel=&#x27;linear&#x27;)</pre></div></div></div></div></div>"
      ],
      "text/plain": [
       "SVC(kernel='linear')"
      ]
     },
     "execution_count": 18,
     "metadata": {},
     "output_type": "execute_result"
    }
   ],
   "source": [
    "svc.fit(X_train_scaled, y_train)"
   ]
  },
  {
   "cell_type": "code",
   "execution_count": 19,
   "id": "f632605e",
   "metadata": {
    "execution": {
     "iopub.execute_input": "2024-07-20T17:04:39.669253Z",
     "iopub.status.busy": "2024-07-20T17:04:39.668274Z",
     "iopub.status.idle": "2024-07-20T17:04:39.674500Z",
     "shell.execute_reply": "2024-07-20T17:04:39.673406Z"
    },
    "papermill": {
     "duration": 0.023261,
     "end_time": "2024-07-20T17:04:39.677096",
     "exception": false,
     "start_time": "2024-07-20T17:04:39.653835",
     "status": "completed"
    },
    "tags": []
   },
   "outputs": [],
   "source": [
    "y_train_pred = svc.predict(X_train_scaled)\n",
    "y_test_pred = svc.predict(X_test_scaled)"
   ]
  },
  {
   "cell_type": "markdown",
   "id": "938d62a7",
   "metadata": {
    "papermill": {
     "duration": 0.012983,
     "end_time": "2024-07-20T17:04:39.703694",
     "exception": false,
     "start_time": "2024-07-20T17:04:39.690711",
     "status": "completed"
    },
    "tags": []
   },
   "source": [
    "accuracy of the model"
   ]
  },
  {
   "cell_type": "code",
   "execution_count": 20,
   "id": "e561cf49",
   "metadata": {
    "execution": {
     "iopub.execute_input": "2024-07-20T17:04:39.733409Z",
     "iopub.status.busy": "2024-07-20T17:04:39.732521Z",
     "iopub.status.idle": "2024-07-20T17:04:39.740181Z",
     "shell.execute_reply": "2024-07-20T17:04:39.738902Z"
    },
    "papermill": {
     "duration": 0.024845,
     "end_time": "2024-07-20T17:04:39.742534",
     "exception": false,
     "start_time": "2024-07-20T17:04:39.717689",
     "status": "completed"
    },
    "tags": []
   },
   "outputs": [],
   "source": [
    "# accuracy of the train data\n",
    "acc_train = accuracy_score(y_train, y_train_pred)\n",
    "# accuracy of the testing data\n",
    "acc_test = accuracy_score(y_test, y_test_pred)"
   ]
  },
  {
   "cell_type": "markdown",
   "id": "d6b41594",
   "metadata": {
    "papermill": {
     "duration": 0.012916,
     "end_time": "2024-07-20T17:04:39.768847",
     "exception": false,
     "start_time": "2024-07-20T17:04:39.755931",
     "status": "completed"
    },
    "tags": []
   },
   "source": [
    "displaying the accuracy score"
   ]
  },
  {
   "cell_type": "code",
   "execution_count": 21,
   "id": "838c973a",
   "metadata": {
    "execution": {
     "iopub.execute_input": "2024-07-20T17:04:39.797507Z",
     "iopub.status.busy": "2024-07-20T17:04:39.796553Z",
     "iopub.status.idle": "2024-07-20T17:04:39.802435Z",
     "shell.execute_reply": "2024-07-20T17:04:39.801354Z"
    },
    "papermill": {
     "duration": 0.023096,
     "end_time": "2024-07-20T17:04:39.805224",
     "exception": false,
     "start_time": "2024-07-20T17:04:39.782128",
     "status": "completed"
    },
    "tags": []
   },
   "outputs": [
    {
     "name": "stdout",
     "output_type": "stream",
     "text": [
      "Accuracy of the training data:  0.9038461538461539\n",
      "Accuracy of the testing data:  0.9487179487179487\n"
     ]
    }
   ],
   "source": [
    "print(\"Accuracy of the training data: \", acc_train)\n",
    "print(\"Accuracy of the testing data: \", acc_test)"
   ]
  },
  {
   "cell_type": "markdown",
   "id": "ed723b45",
   "metadata": {
    "papermill": {
     "duration": 0.012952,
     "end_time": "2024-07-20T17:04:39.831482",
     "exception": false,
     "start_time": "2024-07-20T17:04:39.818530",
     "status": "completed"
    },
    "tags": []
   },
   "source": [
    "the accuracy score in testing data exceeds over the training data, making a great model!!"
   ]
  },
  {
   "cell_type": "markdown",
   "id": "e4cc3877",
   "metadata": {
    "papermill": {
     "duration": 0.012744,
     "end_time": "2024-07-20T17:04:39.857468",
     "exception": false,
     "start_time": "2024-07-20T17:04:39.844724",
     "status": "completed"
    },
    "tags": []
   },
   "source": [
    "creating a predictive system"
   ]
  },
  {
   "cell_type": "code",
   "execution_count": 22,
   "id": "5443f5f3",
   "metadata": {
    "execution": {
     "iopub.execute_input": "2024-07-20T17:04:39.885516Z",
     "iopub.status.busy": "2024-07-20T17:04:39.885043Z",
     "iopub.status.idle": "2024-07-20T17:04:39.896886Z",
     "shell.execute_reply": "2024-07-20T17:04:39.895654Z"
    },
    "papermill": {
     "duration": 0.02906,
     "end_time": "2024-07-20T17:04:39.899645",
     "exception": false,
     "start_time": "2024-07-20T17:04:39.870585",
     "status": "completed"
    },
    "tags": []
   },
   "outputs": [
    {
     "name": "stdout",
     "output_type": "stream",
     "text": [
      "0\n",
      "The person does not have Parkinson's disease\n"
     ]
    },
    {
     "name": "stderr",
     "output_type": "stream",
     "text": [
      "/opt/conda/lib/python3.10/site-packages/sklearn/base.py:439: UserWarning: X does not have valid feature names, but StandardScaler was fitted with feature names\n",
      "  warnings.warn(\n"
     ]
    }
   ],
   "source": [
    "input_data = (198.383,215.203,193.104,0.00212,0.00001,0.00113,0.00135,0.00339,0.01263,0.111,0.0064,0.00825,0.00951,0.01919,0.00119,30.775,0.465946,0.738703,-7.067931,0.175181,1.512275,0.09632)\n",
    "#153.848,165.738,65.782,0.0084,0.00005,0.00428,0.0045,0.01285,0.0381,0.328,0.01667,0.02383,0.04055,0.05,0.03871,17.536,0.660125,0.704087,-4.095442,0.262564,2.73971,0.365391)\n",
    "\n",
    "input_data_as_np_arr = np.asarray(input_data) # converting the tuple to a numpy array\n",
    "\n",
    "input_data_reshaped = input_data_as_np_arr.reshape(1,-1)\n",
    "\n",
    "# standard scaling the input data\n",
    "input_data_scaled = scaler.transform(input_data_reshaped)\n",
    "\n",
    "prediction = svc.predict(input_data_scaled)\n",
    "\n",
    "print(prediction[0])\n",
    "\n",
    "if prediction[0] == 0:\n",
    "    print(\"The person does not have Parkinson's disease\")\n",
    "else:\n",
    "    print(\"The person has Parkinson's disease\")"
   ]
  },
  {
   "cell_type": "code",
   "execution_count": null,
   "id": "a4610025",
   "metadata": {
    "papermill": {
     "duration": 0.013441,
     "end_time": "2024-07-20T17:04:39.926791",
     "exception": false,
     "start_time": "2024-07-20T17:04:39.913350",
     "status": "completed"
    },
    "tags": []
   },
   "outputs": [],
   "source": []
  }
 ],
 "metadata": {
  "kaggle": {
   "accelerator": "none",
   "dataSources": [
    {
     "datasetId": 1304147,
     "sourceId": 2172562,
     "sourceType": "datasetVersion"
    }
   ],
   "dockerImageVersionId": 30746,
   "isGpuEnabled": false,
   "isInternetEnabled": true,
   "language": "python",
   "sourceType": "notebook"
  },
  "kernelspec": {
   "display_name": "Python 3",
   "language": "python",
   "name": "python3"
  },
  "language_info": {
   "codemirror_mode": {
    "name": "ipython",
    "version": 3
   },
   "file_extension": ".py",
   "mimetype": "text/x-python",
   "name": "python",
   "nbconvert_exporter": "python",
   "pygments_lexer": "ipython3",
   "version": "3.10.13"
  },
  "papermill": {
   "default_parameters": {},
   "duration": 7.165557,
   "end_time": "2024-07-20T17:04:40.561476",
   "environment_variables": {},
   "exception": null,
   "input_path": "__notebook__.ipynb",
   "output_path": "__notebook__.ipynb",
   "parameters": {},
   "start_time": "2024-07-20T17:04:33.395919",
   "version": "2.5.0"
  }
 },
 "nbformat": 4,
 "nbformat_minor": 5
}
